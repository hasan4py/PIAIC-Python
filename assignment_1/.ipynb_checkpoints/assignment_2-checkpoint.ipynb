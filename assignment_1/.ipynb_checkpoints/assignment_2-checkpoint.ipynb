{
 "cells": [
  {
   "cell_type": "code",
   "execution_count": 3,
   "metadata": {},
   "outputs": [
    {
     "name": "stdout",
     "output_type": "stream",
     "text": [
      "This program will add a new key and value to a disctionary\n",
      "Enter key for disctionary: 12\n",
      "Enter value for the key 12: 14\n",
      "We have the following disctionary: \n",
      "{12: 14}\n"
     ]
    }
   ],
   "source": [
    "#assignment_2\n",
    "#Task 1 \n",
    "dict = {}\n",
    "print(\"This program will add a new key and value to a disctionary\")\n",
    "key = int(input(\"Enter key for disctionary: \"))\n",
    "value = int(input(f\"Enter value for the key {key}: \"))\n",
    "\n",
    "dict.update({key:value})\n",
    "print(\"We have the following disctionary: \")\n",
    "print(dict)"
   ]
  },
  {
   "cell_type": "code",
   "execution_count": 6,
   "metadata": {},
   "outputs": [
    {
     "name": "stdout",
     "output_type": "stream",
     "text": [
      "{'Name': 'Hasan', 'age': '32', 'Name_2': 'Abdullah', 'age_2': '3'}\n"
     ]
    }
   ],
   "source": [
    "#assignment_2\n",
    "#Task 2 \n",
    "dict_1 = {\"Name\":\"Hasan\", \"age\":\"32\"}\n",
    "dict_2 = {\"Name_2\": \"Abdullah\", \"age_2\":\"3\"}\n",
    "\n",
    "dict_1.update(dict_2)\n",
    "\n",
    "print(dict_1)\n"
   ]
  },
  {
   "cell_type": "code",
   "execution_count": 31,
   "metadata": {},
   "outputs": [
    {
     "name": "stdout",
     "output_type": "stream",
     "text": [
      "Enter key to find the country: Pk\n",
      "Country found in dictionary with key 'Pk' that is 'Pakistan' \n"
     ]
    }
   ],
   "source": [
    "#Assignment_2\n",
    "#Task 3 \n",
    "\n",
    "countries = {\"PK\":\"Pakistan\",\"NL\":\"Netherlands\", \"UK\":\"United Kingdom\",\"US\":\"United States\", \"NZ\":\"Newzealand\"}\n",
    "\n",
    "find = str(input(\"Enter key to find the country: \"))\n",
    "\n",
    "if find.upper() in countries.keys():\n",
    "    print(f\"Country found in dictionary with key '{find}' that is '{countries[find.upper()]}' \")\n",
    "else:\n",
    "    print(f\"No country found with key '{find}' name.\")\n",
    "        "
   ]
  },
  {
   "cell_type": "code",
   "execution_count": 39,
   "metadata": {},
   "outputs": [
    {
     "name": "stdout",
     "output_type": "stream",
     "text": [
      "This program will generate square of N numbers\n",
      "How many element you want in a your dictionary? 45\n",
      "{1: 1, 2: 4, 3: 9, 4: 16, 5: 25, 6: 36, 7: 49, 8: 64, 9: 81, 10: 100, 11: 121, 12: 144, 13: 169, 14: 196, 15: 225, 16: 256, 17: 289, 18: 324, 19: 361, 20: 400, 21: 441, 22: 484, 23: 529, 24: 576, 25: 625, 26: 676, 27: 729, 28: 784, 29: 841, 30: 900, 31: 961, 32: 1024, 33: 1089, 34: 1156, 35: 1225, 36: 1296, 37: 1369, 38: 1444, 39: 1521, 40: 1600, 41: 1681, 42: 1764, 43: 1849, 44: 1936, 45: 2025}\n"
     ]
    }
   ],
   "source": [
    "#assignment_2\n",
    "#Task 4 \n",
    "numbers = {}\n",
    "print(\"This program will generate square of N numbers\")\n",
    "\n",
    "number = int(input(\"How many element you want in a your dictionary? \"))\n",
    "\n",
    "for i in range(1,number+1):\n",
    "    numbers.update({i:i*i})\n",
    "    \n",
    "print(numbers)"
   ]
  },
  {
   "cell_type": "code",
   "execution_count": 43,
   "metadata": {},
   "outputs": [
    {
     "name": "stdout",
     "output_type": "stream",
     "text": [
      "This program will generate sum of dictionary values\n",
      "How many element you want in a your dictionary? 4\n",
      "506\n"
     ]
    }
   ],
   "source": [
    "#assignment_2\n",
    "#Task 5 \n",
    "\n",
    "numbers = {1: 1, 2: 4, 3: 9, 4: 16, 5: 25, 6: 36, 7: 49, 8: 64, 9: 81, 10: 100, 11: 121}\n",
    "print(\"This program will generate sum of dictionary values\")\n",
    "\n",
    "sum = 0\n",
    "for i in numbers.values():\n",
    "    sum += i\n",
    "    \n",
    "print(sum)"
   ]
  },
  {
   "cell_type": "code",
   "execution_count": 46,
   "metadata": {},
   "outputs": [
    {
     "name": "stdout",
     "output_type": "stream",
     "text": [
      "This program will multiply of dictionary values\n",
      "1593350922240000\n"
     ]
    }
   ],
   "source": [
    "#assignment_2\n",
    "#Task 6 \n",
    "\n",
    "numbers = {1: 1, 2: 4, 3: 9, 4: 16, 5: 25, 6: 36, 7: 49, 8: 64, 9: 81, 10: 100, 11: 121}\n",
    "print(\"This program will multiply of dictionary values\")\n",
    "\n",
    "multiply = 1\n",
    "for i in numbers.values():\n",
    "    multiply *= i\n",
    "    \n",
    "print(multiply)"
   ]
  },
  {
   "cell_type": "code",
   "execution_count": 53,
   "metadata": {},
   "outputs": [
    {
     "name": "stdout",
     "output_type": "stream",
     "text": [
      "This program will remove the given key from the dictionary\n",
      "We have the following dictionary:\n",
      "{'PK': 'Pakistan', 'NL': 'Netherlands', 'UK': 'United Kingdom', 'US': 'United States', 'NZ': 'Newzealand'}\n",
      "-----------------------\n",
      "Enter key to remove from the dictionary: nz\n",
      "The given key removed from the dictionary and new disctionary is as following: \n",
      "{'PK': 'Pakistan', 'NL': 'Netherlands', 'UK': 'United Kingdom', 'US': 'United States'}\n"
     ]
    }
   ],
   "source": [
    "#Assignment_2\n",
    "#Task 7 \n",
    "\n",
    "print(\"This program will remove the given key from the dictionary\")\n",
    "\n",
    "countries = {\"PK\":\"Pakistan\",\"NL\":\"Netherlands\", \"UK\":\"United Kingdom\",\"US\":\"United States\", \"NZ\":\"Newzealand\"}\n",
    "\n",
    "print(\"We have the following dictionary:\")\n",
    "print(countries)\n",
    "print(\"-----------------------\")\n",
    "\n",
    "find = str(input(\"Enter key to remove from the dictionary: \"))\n",
    "\n",
    "if find.upper() in countries.keys():\n",
    "\n",
    "    del countries[ find.upper()]\n",
    "    print(f\"The given key removed from the dictionary and new disctionary is as following: \")\n",
    "    print(countries)\n",
    "else:\n",
    "    print(f\"Key found\")\n",
    "        "
   ]
  },
  {
   "cell_type": "code",
   "execution_count": 1,
   "metadata": {},
   "outputs": [
    {
     "name": "stdout",
     "output_type": "stream",
     "text": [
      "This program will map two list into single dictionay, create first list as keys and second list as values\n",
      "How many element you want to enter? 3\n",
      "Enter key 1: pk\n",
      "Enter key 2: nz\n",
      "Enter key 3: us\n",
      "Enter value 1: Pakistan\n",
      "Enter value 2: newzealand\n",
      "Enter value 3: united states\n",
      "{'pk': 'Pakistan', 'nz': 'newzealand', 'us': 'united states'}\n"
     ]
    }
   ],
   "source": [
    "#assignment_2\n",
    "#Task 8 \n",
    "# Python Program to Map Two Lists into a Dictionary \n",
    "print(\"This program will map two list into single dictionay, create first list as keys and second list as values\")\n",
    "\n",
    "list_1 = []\n",
    "list_2 = []\n",
    "final_dict = {}\n",
    "\n",
    "number = int(input(\"How many element you want to enter? \"))\n",
    "\n",
    "for i in range(number):\n",
    "    key = str(input(f\"Enter key {i+1}: \"))\n",
    "    list_1.append(key)\n",
    "\n",
    "for j in range(number):\n",
    "    value = str(input(f\"Enter value {j+1}: \"))\n",
    "    list_2.append(value)\n",
    "    \n",
    "final_dict = dict(zip(list_1,list_2))\n",
    "\n",
    "print(final_dict)"
   ]
  },
  {
   "cell_type": "code",
   "execution_count": 41,
   "metadata": {},
   "outputs": [
    {
     "name": "stdout",
     "output_type": "stream",
     "text": [
      "This program will calculate the words frequency in a string: \n",
      "Enter a string: i am I was i am AM WAS\n",
      "{'i': 2, 'am': 2, 'I': 1, 'was': 1, 'AM': 1, 'WAS': 1}\n"
     ]
    }
   ],
   "source": [
    "#assignment_2\n",
    "#Task 9 \n",
    "#Python Program to Count the Frequency of Words Appearing in a String Using a Dictionary \n",
    "\n",
    "words = []\n",
    "final = {}\n",
    "print(\"This program will calculate the words frequency in a string: \")\n",
    "string = str(input(\"Enter a string: \"))\n",
    "\n",
    "words = string.split(' ')\n",
    "words = list(filter(None,words)) # removing empty white spaces\n",
    "\n",
    "for i in words:\n",
    "    final.update({i:words.count(i)})\n",
    "\n",
    "#print(words.count('i'))\n",
    "print(final)"
   ]
  },
  {
   "cell_type": "code",
   "execution_count": 58,
   "metadata": {},
   "outputs": [
    {
     "name": "stdout",
     "output_type": "stream",
     "text": [
      "This program will calculate the words frequency in a string: \n",
      "Enter a string: i am here and here in to the tree\n",
      "{'i': ['and', 'am', 'here', 'here', 'in', 'i', 'the', 'to', 'tree', [...]], 'a': ['and', 'am', 'here', 'here', 'in', 'i', 'the', 'to', 'tree', [...]], 'h': ['and', 'am', 'here', 'here', 'in', 'i', 'the', 'to', 'tree', [...]], 't': ['and', 'am', 'here', 'here', 'in', 'i', 'the', 'to', 'tree', [...]]}\n"
     ]
    }
   ],
   "source": [
    "#assignment_2\n",
    "#Task 10 \n",
    "#Python Program to Create a Dictionary with Key as First Character and Value as Words Starting with that Character \n",
    "\n",
    "words = []\n",
    "final = {}\n",
    "dup_word = []\n",
    "print(\"This program will calculate the words frequency in a string: \")\n",
    "string = str(input(\"Enter a string: \"))\n",
    "\n",
    "words = string.split(' ')\n",
    "words = list(filter(None,words)) # removing empty white spaces\n",
    "\n",
    "for i in words:\n",
    "    if i[0] not in final.keys():\n",
    "        final.update({i[0]:i})\n",
    "    else:\n",
    "        temp = final[i[0]]\n",
    "        dup_word.append(i)\n",
    "        dup_word.append(temp)\n",
    "        final.update({i[0]: dup_word})\n",
    "\n",
    "#print(words.count('i'))\n",
    "print(final)"
   ]
  },
  {
   "cell_type": "code",
   "execution_count": null,
   "metadata": {},
   "outputs": [],
   "source": []
  }
 ],
 "metadata": {
  "kernelspec": {
   "display_name": "Python 3",
   "language": "python",
   "name": "python3"
  },
  "language_info": {
   "codemirror_mode": {
    "name": "ipython",
    "version": 3
   },
   "file_extension": ".py",
   "mimetype": "text/x-python",
   "name": "python",
   "nbconvert_exporter": "python",
   "pygments_lexer": "ipython3",
   "version": "3.7.4"
  }
 },
 "nbformat": 4,
 "nbformat_minor": 2
}
