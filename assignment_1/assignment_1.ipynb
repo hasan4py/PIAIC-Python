{
 "cells": [
  {
   "cell_type": "code",
   "execution_count": 22,
   "metadata": {},
   "outputs": [
    {
     "name": "stdout",
     "output_type": "stream",
     "text": [
      "Enter a number please: 12\n",
      "Number is positive\n"
     ]
    }
   ],
   "source": [
    "#assignment_1\n",
    "#Write Python Program to Check Whether a Number is Positive or Negative \n",
    "\n",
    "number = int(input(\"Enter a number please: \"))\n",
    "\n",
    "if number > 0:\n",
    "        print(\"Number is positive\")\n",
    "else:\n",
    "        print(\"Number is negative\")\n"
   ]
  },
  {
   "cell_type": "code",
   "execution_count": 29,
   "metadata": {},
   "outputs": [
    {
     "name": "stdout",
     "output_type": "stream",
     "text": [
      "Enter obtained marks of Mathematics out 100: 100\n",
      "Enter obtained marks of Physics out of 100: 90\n",
      "Enter obtained marks of Biology out of 100: 80\n",
      "Enter obtained marks of Chemistry out of 100: 100\n",
      "Enter obtained marks of Urdu out of 100: 100\n",
      "470\n",
      "Avgerage obtained marks: 94.0\n",
      "You got: A grade\n"
     ]
    }
   ],
   "source": [
    "#assignment_1\n",
    "#Write Python Program to Take in the Marks of 5 Subjects and Display the Grade \n",
    "\n",
    "maths = int(input(\"Enter obtained marks of Mathematics out 100: \"))\n",
    "physics = int(input(\"Enter obtained marks of Physics out of 100: \"))\n",
    "biology = int(input(\"Enter obtained marks of Biology out of 100: \"))\n",
    "chemistry = int(input(\"Enter obtained marks of Chemistry out of 100: \"))\n",
    "urdu = int(input(\"Enter obtained marks of Urdu out of 100: \"))\n",
    "\n",
    "total_obtained = maths+physics+biology+chemistry+urdu\n",
    "\n",
    "print(total_obtained)\n",
    "\n",
    "avg = total_obtained/5\n",
    "\n",
    "print(\"Avgerage obtained marks: \"+ str(avg))\n",
    "\n",
    "if avg > 90:\n",
    "    print(\"You got: A grade\")\n",
    "elif avg >80:\n",
    "    print(\"You got : B grade\")\n",
    "elif avg > 70:\n",
    "    print(\"You got: C grade\")\n",
    "elif avg > 60:\n",
    "    print(\"You got: D grade\")\n",
    "else:\n",
    "    print(\"You need to improve yourself!\")"
   ]
  },
  {
   "cell_type": "markdown",
   "metadata": {},
   "source": [
    "#assignment_1\n"
   ]
  },
  {
   "cell_type": "code",
   "execution_count": 32,
   "metadata": {},
   "outputs": [
    {
     "name": "stdout",
     "output_type": "stream",
     "text": [
      "This program will ask for two number and print their Quotient and reminder\n",
      "Please enter first number: 12\n",
      "PLease enter second number: 3\n",
      "Remainder of 12 and 3 is: 4.0\n",
      "Quotient of 12 and 3 is: 0\n"
     ]
    }
   ],
   "source": [
    "#assignment_1\n",
    "#Write Python Program to Read Two Numbers and Print Their Quotient and Remainder \n",
    "print(\"This program will ask for two number and print their Quotient and reminder\")\n",
    "\n",
    "number_1 = int(input(\"Please enter first number: \"))\n",
    "number_2 = int(input(\"PLease enter second number: \"))\n",
    "\n",
    "remainder = number_1 / number_2\n",
    "\n",
    "quotient = number_1 % number_2\n",
    "\n",
    "print(\"Remainder of \"+str(number_1)+\" and \"+str(number_2)+\" is: \"+ str(remainder))\n",
    "print(\"Quotient of \"+str(number_1)+\" and \"+str(number_2)+\" is: \"+ str(quotient))\n"
   ]
  },
  {
   "cell_type": "code",
   "execution_count": 19,
   "metadata": {},
   "outputs": [
    {
     "name": "stdout",
     "output_type": "stream",
     "text": [
      "1 is not divisiable by 2 and 3\n",
      "5 is not divisiable by 2 and 3\n",
      "7 is not divisiable by 2 and 3\n",
      "11 is not divisiable by 2 and 3\n",
      "13 is not divisiable by 2 and 3\n",
      "17 is not divisiable by 2 and 3\n",
      "19 is not divisiable by 2 and 3\n",
      "23 is not divisiable by 2 and 3\n",
      "25 is not divisiable by 2 and 3\n",
      "29 is not divisiable by 2 and 3\n",
      "31 is not divisiable by 2 and 3\n",
      "35 is not divisiable by 2 and 3\n",
      "37 is not divisiable by 2 and 3\n",
      "41 is not divisiable by 2 and 3\n",
      "43 is not divisiable by 2 and 3\n",
      "47 is not divisiable by 2 and 3\n",
      "49 is not divisiable by 2 and 3\n"
     ]
    }
   ],
   "source": [
    "#assignment_1\n",
    "#Write Python Program to Print all Integers that Aren’t Divisible by Either 2 or 3 and Lie between 1 and 50. \n",
    "\n",
    "for i in range(1,51):\n",
    "   # print(i)\n",
    "    if i%2 != 0 and i%3 != 0 :\n",
    "        print(f\"{i} is not divisiable by 2 and 3\")"
   ]
  },
  {
   "cell_type": "code",
   "execution_count": 23,
   "metadata": {},
   "outputs": [
    {
     "name": "stdout",
     "output_type": "stream",
     "text": [
      "Enter first value: 2\n",
      "Enter second value: 3\n",
      "First Value is: 3 and second value is: 2 \n"
     ]
    }
   ],
   "source": [
    "#assignment_1\n",
    "#Write Python Program to Exchange the Values of Two Numbers Without Using a Temporary Variable \n",
    "\n",
    "val1 = int(input(\"Enter first value: \"))\n",
    "val2  = int(input(\"Enter second value: \"))\n",
    "\n",
    "val1, val2 = val2, val1\n",
    "\n",
    "print(f\"First Value is: {val1} and second value is: {val2} \")"
   ]
  },
  {
   "cell_type": "code",
   "execution_count": 28,
   "metadata": {},
   "outputs": [
    {
     "name": "stdout",
     "output_type": "stream",
     "text": [
      "Enter first value: 2\n",
      "Enter second value: 3\n",
      "First Value is: -3 and second value is: 2 \n"
     ]
    }
   ],
   "source": [
    "#assignment_1\n",
    "#Write Python Program to Exchange the Values of Two Numbers Without Using a Temporary Variable \n",
    "############################ program have error\n",
    "val1 = int(input(\"Enter first value: \"))\n",
    "val2  = int(input(\"Enter second value: \"))\n",
    "\n",
    "#Add both the variables and store it in the first variable. \n",
    "val1 = val1 + val2\n",
    "\n",
    "# Subtract the second variable from the first and store it in the second variable. \n",
    "val2 = val1 - val2\n",
    "\n",
    "#Then, subtract the first variable from the second variable and store it in the first variable. \n",
    "val1 = val2 - val1\n",
    "\n",
    "print(f\"First Value is: {val1} and second value is: {val2} \")"
   ]
  },
  {
   "cell_type": "code",
   "execution_count": 36,
   "metadata": {},
   "outputs": [
    {
     "name": "stdout",
     "output_type": "stream",
     "text": [
      "This program will calculate the area of triangle and will ask for three side of triangle: \n",
      "Enter base value: \n",
      "Enter value of hypotenuse: 12\n",
      "Enter the value of perpendicular: 3\n",
      "Enter base value: 12\n",
      "Area of triangle is 13.5 \n"
     ]
    }
   ],
   "source": [
    "# assignment_1\n",
    "# Write Python Program to Find the Area of a Triangle Given All Three Sides \n",
    "print(\"This program will calculate the area of triangle and will ask for three side of triangle: \")\n",
    "base = input(\"Enter base value: \")\n",
    "hyp = input(\"Enter value of hypotenuse: \")\n",
    "perpendicular = input(\"Enter the value of perpendicular: \")\n",
    "\n",
    "if not base:\n",
    "   base = input(\"Enter base value again: \")\n",
    "if not hyp:\n",
    "    hyp = input(\"Enter value of hypotenuse again: \")\n",
    "if not perpendicular:\n",
    "    perpendicular = input(\"Enter the value of perpendicular again: \")\n",
    "    \n",
    "area = (int(base)+int(hyp)+int(perpendicular))*0.5\n",
    "\n",
    "print(f\"Area of triangle is {area} \")\n"
   ]
  },
  {
   "cell_type": "code",
   "execution_count": 49,
   "metadata": {},
   "outputs": [
    {
     "name": "stdout",
     "output_type": "stream",
     "text": [
      "This program will find the maximum and minimum from the entered numbers \n",
      "How many elements you want to enter? 6\n",
      "Enter number please: 11\n",
      "Enter number please: 23\n",
      "Enter number please: 9\n",
      "Enter number please: 1\n",
      "Enter number please: 65\n",
      "Enter number please: 21\n",
      "Max odd number in list is: 65\n",
      "Odd list length is: 6\n",
      "Sorted odd list is: \n",
      "[1, 9, 11, 21, 23, 65]\n"
     ]
    }
   ],
   "source": [
    "#assignment_1\n",
    "#Write Python Program to Print Largest Even and Largest Odd Number in a List \n",
    "\n",
    "odd = []\n",
    "even = []\n",
    "\n",
    "print(\"This program will find the maximum and minimum from the entered numbers \")\n",
    "total = int(input(\"How many elements you want to enter? \"))\n",
    "\n",
    "for i in range(total):\n",
    "    number = int(input(\"Enter number please: \"))\n",
    "    \n",
    "    if number%2 == 0:\n",
    "        even.append(number)\n",
    "    else:\n",
    "        odd.append(number)\n",
    "\n",
    "if len(odd) != 0:\n",
    "    print(f\"Max odd number in list is: {max(odd)}\")\n",
    "    print(f\"Odd list length is: {len(odd)}\")\n",
    "    print(\"Sorted odd list is: \")\n",
    "    odd.sort()\n",
    "    print(odd)\n",
    "\n",
    "if len(even) != 0:\n",
    "    print(f\"Maximum even number in list is: {max(even)} \")\n",
    "    print(f\"Even list length is: {len(even)}\")\n",
    "    print(\"Sorted even list is: \")\n",
    "    even.sort()\n",
    "    print(even)\n",
    "\n"
   ]
  },
  {
   "cell_type": "code",
   "execution_count": 51,
   "metadata": {},
   "outputs": [
    {
     "name": "stdout",
     "output_type": "stream",
     "text": [
      "This program will calculate the second largest number from the entered list of numbers \n",
      "How many numbers your want to insert? 5\n",
      "Enter element 1:  33\n",
      "Enter element 2:  11\n",
      "Enter element 3:  66\n",
      "Enter element 4:  22\n",
      "Enter element 5:  99\n",
      "Second largest number in the list is: 66\n"
     ]
    }
   ],
   "source": [
    "#assignment_1\n",
    "\n",
    "#Write Python Program to Find the Second Largest Number in a List \n",
    "\n",
    "a_list = []\n",
    "\n",
    "print(\"This program will calculate the second largest number from the entered list of numbers \")\n",
    "total = int(input(\"How many numbers your want to insert? \"))\n",
    "\n",
    "for i in range(total):\n",
    "    number = int(input(f\"Enter element {i+1}:  \"))\n",
    "    a_list.append(number)\n",
    "a_list.sort()\n",
    "\n",
    "print(f\"Second largest number in the list is: {a_list[-2]}\")"
   ]
  },
  {
   "cell_type": "code",
   "execution_count": 53,
   "metadata": {},
   "outputs": [
    {
     "name": "stdout",
     "output_type": "stream",
     "text": [
      "This program will result the union of two lists \n",
      "How many element you want to enter in first list? 4\n",
      "Insert 1 element in First list: 1\n",
      "Insert 2 element in First list: 2\n",
      "Insert 3 element in First list: 3\n",
      "Insert 4 element in First list: 4\n",
      "How many elements you wan to enter in second list? 5\n",
      "Inser 1 element in second list: 1\n",
      "Inser 2 element in second list: 2\n",
      "Inser 3 element in second list: 3\n",
      "Inser 4 element in second list: 4\n",
      "Inser 5 element in second list: 5\n",
      "Union of two lists is: \n",
      "[1, 2, 3, 4, 5]\n"
     ]
    }
   ],
   "source": [
    "#assignment_1\n",
    "#Write Python Program to Find the Union of two Lists \n",
    "\n",
    "list_1 = []\n",
    "list_2 = []\n",
    "\n",
    "print(\"This program will result the union of two lists \")\n",
    "\n",
    "number = int(input(\"How many element you want to enter in first list? \"))\n",
    "\n",
    "for i in range(number):\n",
    "    element = int(input(f\"Insert {i+1} element in First list: \"))\n",
    "    list_1.append(element)\n",
    "\n",
    "number = int(input(\"How many elements you wan to enter in second list? \"))\n",
    "\n",
    "for i in range(number):\n",
    "    element = int(input(f\"Inser {i+1} element in second list: \"))\n",
    "    list_2.append(element)\n",
    "    \n",
    "print(\"Union of two lists is: \")\n",
    "print(list(set(list_1)|set(list_2)))"
   ]
  },
  {
   "cell_type": "code",
   "execution_count": null,
   "metadata": {},
   "outputs": [],
   "source": []
  }
 ],
 "metadata": {
  "kernelspec": {
   "display_name": "Python 3",
   "language": "python",
   "name": "python3"
  },
  "language_info": {
   "codemirror_mode": {
    "name": "ipython",
    "version": 3
   },
   "file_extension": ".py",
   "mimetype": "text/x-python",
   "name": "python",
   "nbconvert_exporter": "python",
   "pygments_lexer": "ipython3",
   "version": "3.7.4"
  }
 },
 "nbformat": 4,
 "nbformat_minor": 2
}
